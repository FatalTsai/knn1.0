{
 "cells": [
  {
   "cell_type": "markdown",
   "metadata": {},
   "source": [
    "# 簡介機器學習\n",
    "### 可大致分為監督鄰近分類學習和非監督兩種學習方法\n",
    "<img src=\"unsuper.png\">\n",
    "1. 非監督式學習(Unsupervised Learing)的訓練資料不需要事先以人力處理標籤，機器面對資料時，做的處理是依照關聯性去歸類、找出潛在規則與套路、形成集群，不對資訊有正確或不正確的判別\n",
    "<img src=\"supervised.png\">\n",
    "2. 監督式學習 (Supervised learning) 是電腦從標籤化 (labeled) 的資訊中分析模式後做出預測的學習方式。標記過的資料就好比標準答案，電腦在學習的過程透過對比誤差，一邊修正去達到更精準的預測，這樣的方式讓監督式學習有準確率高的優點。 \n",
    "\n",
    " 根據不同特徵值之間的距離來進行分類的一種簡單的機器學習方法，它是一種簡單但是懶惰的演算法。他的訓練資料都是有標籤的資料，即訓練的資料都有自己的類別。KNN演算法主要應用領域是對未知事物進行分類，即判斷未知事物屬於哪一類，判斷透過歐幾里得定理，判斷未知事物的特徵和哪一類已知事物的的特徵最接近。它也可以用於遞迴，通過找出一個樣本的k個最近鄰居，將這些鄰居的屬性的平均值賦給該樣本，就可以得到該樣本的屬性。\n",
    "\n",
    " 儘管很簡單，近鄰方法在處理資料量多的分類及迴歸分析上很成功"
   ]
  },
  {
   "cell_type": "markdown",
   "metadata": {},
   "source": [
    "# KNN Algorithm \n",
    "\n",
    "### 之使用airbnb做房價預測"
   ]
  },
  {
   "cell_type": "markdown",
   "metadata": {},
   "source": [
    "* KNN又稱K最近鄰居是基於監督學習技術的最簡單的機器學習算法之一。  \n",
    "\n",
    "* KNN算法假設新案例/數據與可用案例之間具有相似性，並將新案例放入與可用類別最相似的類別中。\n",
    "\n",
    "* KNN算法存儲所有可用數據，並基於相似度對新數據點進行分類。這意味著，當出現新數據時，可以使用K-NN算法將其輕鬆分類為鑽井套件類別。\n",
    "\n",
    "* KNN算法既可以用於回歸也可以用於分類，但是大多數情況下用於分類問題。\n",
    "\n",
    "* KNN是一種非參數算法，這意味著它不會對基礎數據進行任何假設。\n",
    "\n",
    "* 它也稱為惰性學習器算法，因為它不立即從訓練集中學習，而是存儲數據集，並且在分類時對數據集執行操作。\n",
    "\n",
    "* 訓練階段的KNN算法僅存儲數據集，並在獲取新數據時將其分類為與新數據非常相似的類別。\n"
   ]
  },
  {
   "cell_type": "markdown",
   "metadata": {},
   "source": [
    "假設我們有一個看起來類似於婊子和狗的生物的圖像，但是我們想知道它是婊子還是狗。因此，對於這種識別，我們可以使用KNN算法，因為它適用於相似性度量。我們的KNN模型將發現新數據集與婊子和狗圖像相似的特徵，並基於最相似的特徵將其分類為婊子或狗類別。\n",
    "<img src=\"dog.png\">\n"
   ]
  },
  {
   "cell_type": "markdown",
   "metadata": {},
   "source": [
    "## Airbnb in Taipe\n",
    "<img src=\"2020-07-01_070428.png\">\n",
    "\n",
    "台北他媽的居大不易，除非你青春的身體，不然應該付出金錢上的代價，來換得一個短期的藏身之地"
   ]
  },
  {
   "cell_type": "markdown",
   "metadata": {},
   "source": [
    "## 資料抓取"
   ]
  },
  {
   "cell_type": "markdown",
   "metadata": {},
   "source": [
    "因此我們先寫好一個爬蟲，去抓取官網上的資訊吧(?)\n",
    "下次好了....\n",
    "有一個叫做 http://insideairbnb.com/ 的非官方網站\n",
    "會抓取官網上的資訊\n",
    "大概每一年會至少更新一次\n",
    "我拿了今年五月的資料用用\n",
    "https://www.espn.com/mlb/stats/team/_/view/pitching/season/2019/seasontype/2/table/pitching/sort/ERA/dir/asc"
   ]
  },
  {
   "cell_type": "code",
   "execution_count": 1,
   "metadata": {},
   "outputs": [
    {
     "name": "stdout",
     "output_type": "stream",
     "text": [
      "(90, 31)\n"
     ]
    },
    {
     "data": {
      "text/html": [
       "<div>\n",
       "<style scoped>\n",
       "    .dataframe tbody tr th:only-of-type {\n",
       "        vertical-align: middle;\n",
       "    }\n",
       "\n",
       "    .dataframe tbody tr th {\n",
       "        vertical-align: top;\n",
       "    }\n",
       "\n",
       "    .dataframe thead th {\n",
       "        text-align: right;\n",
       "    }\n",
       "</style>\n",
       "<table border=\"1\" class=\"dataframe\">\n",
       "  <thead>\n",
       "    <tr style=\"text-align: right;\">\n",
       "      <th></th>\n",
       "      <th>GP</th>\n",
       "      <th>AB</th>\n",
       "      <th>R</th>\n",
       "      <th>H</th>\n",
       "      <th>2B</th>\n",
       "      <th>3B</th>\n",
       "      <th>HR</th>\n",
       "      <th>RBI</th>\n",
       "      <th>TB</th>\n",
       "      <th>BB</th>\n",
       "      <th>...</th>\n",
       "      <th>pSHO</th>\n",
       "      <th>pQS</th>\n",
       "      <th>pIP</th>\n",
       "      <th>pH</th>\n",
       "      <th>pER</th>\n",
       "      <th>pHR</th>\n",
       "      <th>pBB</th>\n",
       "      <th>pSO</th>\n",
       "      <th>pOBA</th>\n",
       "      <th>pWHIP</th>\n",
       "    </tr>\n",
       "  </thead>\n",
       "  <tbody>\n",
       "    <tr>\n",
       "      <th>0</th>\n",
       "      <td>162</td>\n",
       "      <td>5596</td>\n",
       "      <td>729</td>\n",
       "      <td>1379</td>\n",
       "      <td>252</td>\n",
       "      <td>25</td>\n",
       "      <td>213</td>\n",
       "      <td>698</td>\n",
       "      <td>2320</td>\n",
       "      <td>462</td>\n",
       "      <td>...</td>\n",
       "      <td>5</td>\n",
       "      <td>41</td>\n",
       "      <td>1443.0</td>\n",
       "      <td>1544</td>\n",
       "      <td>897</td>\n",
       "      <td>305</td>\n",
       "      <td>561</td>\n",
       "      <td>1248</td>\n",
       "      <td>0.271</td>\n",
       "      <td>1.46</td>\n",
       "    </tr>\n",
       "    <tr>\n",
       "      <th>1</th>\n",
       "      <td>162</td>\n",
       "      <td>5770</td>\n",
       "      <td>901</td>\n",
       "      <td>1554</td>\n",
       "      <td>345</td>\n",
       "      <td>27</td>\n",
       "      <td>245</td>\n",
       "      <td>857</td>\n",
       "      <td>2688</td>\n",
       "      <td>590</td>\n",
       "      <td>...</td>\n",
       "      <td>8</td>\n",
       "      <td>55</td>\n",
       "      <td>1471.0</td>\n",
       "      <td>1423</td>\n",
       "      <td>768</td>\n",
       "      <td>215</td>\n",
       "      <td>605</td>\n",
       "      <td>1633</td>\n",
       "      <td>0.251</td>\n",
       "      <td>1.38</td>\n",
       "    </tr>\n",
       "    <tr>\n",
       "      <th>2</th>\n",
       "      <td>162</td>\n",
       "      <td>5542</td>\n",
       "      <td>769</td>\n",
       "      <td>1368</td>\n",
       "      <td>268</td>\n",
       "      <td>21</td>\n",
       "      <td>220</td>\n",
       "      <td>734</td>\n",
       "      <td>2338</td>\n",
       "      <td>586</td>\n",
       "      <td>...</td>\n",
       "      <td>2</td>\n",
       "      <td>22</td>\n",
       "      <td>1442.2</td>\n",
       "      <td>1417</td>\n",
       "      <td>820</td>\n",
       "      <td>267</td>\n",
       "      <td>576</td>\n",
       "      <td>1404</td>\n",
       "      <td>0.254</td>\n",
       "      <td>1.38</td>\n",
       "    </tr>\n",
       "    <tr>\n",
       "      <th>3</th>\n",
       "      <td>162</td>\n",
       "      <td>5425</td>\n",
       "      <td>769</td>\n",
       "      <td>1354</td>\n",
       "      <td>286</td>\n",
       "      <td>18</td>\n",
       "      <td>223</td>\n",
       "      <td>731</td>\n",
       "      <td>2345</td>\n",
       "      <td>563</td>\n",
       "      <td>...</td>\n",
       "      <td>16</td>\n",
       "      <td>81</td>\n",
       "      <td>1437.2</td>\n",
       "      <td>1308</td>\n",
       "      <td>601</td>\n",
       "      <td>207</td>\n",
       "      <td>450</td>\n",
       "      <td>1508</td>\n",
       "      <td>0.240</td>\n",
       "      <td>1.22</td>\n",
       "    </tr>\n",
       "    <tr>\n",
       "      <th>4</th>\n",
       "      <td>162</td>\n",
       "      <td>5496</td>\n",
       "      <td>691</td>\n",
       "      <td>1356</td>\n",
       "      <td>281</td>\n",
       "      <td>40</td>\n",
       "      <td>162</td>\n",
       "      <td>655</td>\n",
       "      <td>2203</td>\n",
       "      <td>456</td>\n",
       "      <td>...</td>\n",
       "      <td>7</td>\n",
       "      <td>59</td>\n",
       "      <td>1425.0</td>\n",
       "      <td>1525</td>\n",
       "      <td>824</td>\n",
       "      <td>221</td>\n",
       "      <td>582</td>\n",
       "      <td>1230</td>\n",
       "      <td>0.273</td>\n",
       "      <td>1.48</td>\n",
       "    </tr>\n",
       "  </tbody>\n",
       "</table>\n",
       "<p>5 rows × 31 columns</p>\n",
       "</div>"
      ],
      "text/plain": [
       "    GP    AB    R     H   2B  3B   HR  RBI    TB   BB  ...  pSHO  pQS     pIP  \\\n",
       "0  162  5596  729  1379  252  25  213  698  2320  462  ...     5   41  1443.0   \n",
       "1  162  5770  901  1554  345  27  245  857  2688  590  ...     8   55  1471.0   \n",
       "2  162  5542  769  1368  268  21  220  734  2338  586  ...     2   22  1442.2   \n",
       "3  162  5425  769  1354  286  18  223  731  2345  563  ...    16   81  1437.2   \n",
       "4  162  5496  691  1356  281  40  162  655  2203  456  ...     7   59  1425.0   \n",
       "\n",
       "     pH  pER  pHR  pBB   pSO   pOBA  pWHIP  \n",
       "0  1544  897  305  561  1248  0.271   1.46  \n",
       "1  1423  768  215  605  1633  0.251   1.38  \n",
       "2  1417  820  267  576  1404  0.254   1.38  \n",
       "3  1308  601  207  450  1508  0.240   1.22  \n",
       "4  1525  824  221  582  1230  0.273   1.48  \n",
       "\n",
       "[5 rows x 31 columns]"
      ]
     },
     "execution_count": 1,
     "metadata": {},
     "output_type": "execute_result"
    }
   ],
   "source": [
    "import pandas as pd\n",
    "\n",
    "#features = ['accommodates','bedrooms','bathrooms','beds','price','minimum_nights','maximum_nights','number_of_reviews']\n",
    "#篩選出有用的特徵\n",
    "\n",
    "dc_listings = pd.read_csv('baseball (1).csv',low_memory=False)\n",
    "\n",
    "#dc_listings = dc_listings[features]\n",
    "\n",
    "print(dc_listings.shape)\n",
    "\n",
    "dc_listings.head()"
   ]
  },
  {
   "cell_type": "markdown",
   "metadata": {},
   "source": [
    "擷取的特徵 (listing2.csv 有很多跟我一樣廢的資訊 這邊只取幾個比較有用的)\n",
    "* accommodates: 可以容納的房客\n",
    "* bedrooms: 房間的數量\n",
    "* bathrooms: 廁所的數量\n",
    "* beds: 床的數量\n",
    "* price: 一晚的費用\n",
    "* minimum_nights: 客人最少租了幾天\n",
    "* maximum_nights: 客人最多租了幾天\n",
    "* number_of_reviews: 評論數"
   ]
  },
  {
   "cell_type": "markdown",
   "metadata": {},
   "source": [
    "## 如果我今天他媽的有一張床，也沒有女生要住我家，我能租多少錢?\n",
    "--> 484要看看別人都賣多少\n"
   ]
  },
  {
   "cell_type": "markdown",
   "metadata": {},
   "source": [
    "<img src=\"newdatapoint.png\">"
   ]
  },
  {
   "cell_type": "markdown",
   "metadata": {},
   "source": [
    "\n",
    "## KNN原理"
   ]
  },
  {
   "cell_type": "markdown",
   "metadata": {},
   "source": [
    "## K為一個常數，表示我們找K個房間數量的價格做比較\n",
    "如我們所見，最近的三個鄰居來自類別A，因此此新數據點必須屬於類別A。\n",
    "如何在KNN演算法中選擇K的值?\n",
    "\n",
    "在K-NN算法中選擇K的值時，需要記住以下幾點：\n",
    "* 沒有確定“ K”的最佳值的特定方法，因此我們需要嘗試一些值以從中找出最佳值。\n",
    "* K的極低值（例如K = 1或K = 2）可能會產生噪聲，並導致模型中異常值的影響。\n",
    "* 較大的K值不錯，但可能會遇到一些困難。\n",
    "<img src=\"K_is_three.png\">\n",
    "此圖中選擇  K=3 "
   ]
  },
  {
   "cell_type": "markdown",
   "metadata": {},
   "source": [
    "### KNN演算法的優點:\n",
    "實施起來很簡單。\n",
    "它對嘈雜的訓練數據具有魯棒性\n",
    "如果訓練數據很大，可能會更有效。\n",
    "### KNN演算法的缺點:\n",
    "始終需要確定K的值，該值有時可能很複雜。\n",
    "由於計算所有訓練樣本的數據點之間的距離，因此計算成本很高。"
   ]
  },
  {
   "cell_type": "markdown",
   "metadata": {},
   "source": [
    "## 距離的計算\n"
   ]
  },
  {
   "cell_type": "markdown",
   "metadata": {},
   "source": [
    "<img src=\"6.png\" style=\"width:400px;height:80px;float:left\">"
   ]
  },
  {
   "cell_type": "markdown",
   "metadata": {},
   "source": [
    "q1到qn為一個個案的特徵之資料 \n",
    "p1到pn是另一個個案的"
   ]
  },
  {
   "cell_type": "markdown",
   "metadata": {},
   "source": [
    "假設我的房子有三個房間，就房間數量這個特徵來計算距離"
   ]
  },
  {
   "cell_type": "code",
   "execution_count": 87,
   "metadata": {},
   "outputs": [
    {
     "data": {
      "text/plain": [
       "0      777\n",
       "1     4737\n",
       "2     1276\n",
       "3      653\n",
       "4      146\n",
       "5      319\n",
       "6       59\n",
       "7      123\n",
       "8       24\n",
       "9       88\n",
       "10      16\n",
       "11      28\n",
       "12      15\n",
       "13     148\n",
       "Name: distance, dtype: int64"
      ]
     },
     "execution_count": 87,
     "metadata": {},
     "output_type": "execute_result"
    }
   ],
   "source": [
    "import numpy as np\n",
    "\n",
    "our__value = 3\n",
    "\n",
    "dc_listings['distance'] = np.abs(dc_listings.accommodates - our__value)\n",
    "dc_listings.distance.value_counts().sort_index()"
   ]
  },
  {
   "cell_type": "markdown",
   "metadata": {},
   "source": [
    "這邊跟我們距離為0的房間()有 777個"
   ]
  },
  {
   "cell_type": "markdown",
   "metadata": {},
   "source": [
    "透過sample稍微洗一下牌"
   ]
  },
  {
   "cell_type": "code",
   "execution_count": 88,
   "metadata": {
    "scrolled": true
   },
   "outputs": [
    {
     "data": {
      "text/plain": [
       "2330      $509.00\n",
       "1592    $1,736.00\n",
       "4581    $2,514.00\n",
       "8142    $3,685.00\n",
       "7793    $1,107.00\n",
       "Name: price, dtype: object"
      ]
     },
     "execution_count": 88,
     "metadata": {},
     "output_type": "execute_result"
    }
   ],
   "source": [
    "dc_listings = dc_listings.sample(frac=1,random_state=0)#frac=1做shuffle \n",
    "dc_listings = dc_listings.sort_values('distance')\n",
    "dc_listings.price.head()"
   ]
  },
  {
   "cell_type": "markdown",
   "metadata": {},
   "source": [
    "把那個垃圾$字號去掉 這邊取K"
   ]
  },
  {
   "cell_type": "code",
   "execution_count": 89,
   "metadata": {},
   "outputs": [
    {
     "data": {
      "text/plain": [
       "1910.2"
      ]
     },
     "execution_count": 89,
     "metadata": {},
     "output_type": "execute_result"
    }
   ],
   "source": [
    "dc_listings['price'] = dc_listings.price.str.replace(\"\\$|,\",'').astype(float)\n",
    "\n",
    "mean_price = dc_listings.price.iloc[:5].mean()\n",
    "mean_price"
   ]
  },
  {
   "cell_type": "markdown",
   "metadata": {},
   "source": [
    "隨機取五個數，得到大致的價格\n"
   ]
  },
  {
   "cell_type": "markdown",
   "metadata": {},
   "source": [
    "## 模型的規劃"
   ]
  },
  {
   "cell_type": "markdown",
   "metadata": {},
   "source": [
    "<img src=\"2020-07-01_091209.png\" style=\"width:600px;height:250px;float:left\">"
   ]
  },
  {
   "cell_type": "markdown",
   "metadata": {},
   "source": [
    "先切割出訓練集 和 測試集"
   ]
  },
  {
   "cell_type": "code",
   "execution_count": 90,
   "metadata": {},
   "outputs": [],
   "source": [
    "dc_listings.drop('distance',axis=1)\n",
    "\n",
    "train_df = dc_listings.copy().iloc[:6000]\n",
    "test_df = dc_listings.copy().iloc[6000:]"
   ]
  },
  {
   "cell_type": "markdown",
   "metadata": {},
   "source": [
    "以某個特徵做預測"
   ]
  },
  {
   "cell_type": "code",
   "execution_count": 91,
   "metadata": {},
   "outputs": [],
   "source": [
    "def predict_price(new_listing_value,feature_column):\n",
    "    temp_df = train_df\n",
    "    temp_df['distance'] = np.abs(dc_listings[feature_column] - new_listing_value)\n",
    "    temp_df = temp_df.sort_values('distance')\n",
    "    knn_5 = temp_df.price.iloc[:5]\n",
    "    predicted_price = knn_5.mean()\n",
    "    return(predicted_price)"
   ]
  },
  {
   "cell_type": "code",
   "execution_count": 92,
   "metadata": {},
   "outputs": [
    {
     "data": {
      "text/plain": [
       "8396    1646.4\n",
       "2520     862.6\n",
       "3410     862.6\n",
       "8389    1646.4\n",
       "710      862.6\n",
       "         ...  \n",
       "1575    1646.4\n",
       "6326    1646.4\n",
       "2053    1646.4\n",
       "3929    1646.4\n",
       "5037    1646.4\n",
       "Name: predicted_price, Length: 2409, dtype: float64"
      ]
     },
     "execution_count": 92,
     "metadata": {},
     "output_type": "execute_result"
    }
   ],
   "source": [
    "test_df['predicted_price'] = test_df.accommodates.apply(predict_price,feature_column='accommodates')\n",
    "test_df['predicted_price']"
   ]
  },
  {
   "cell_type": "markdown",
   "metadata": {},
   "source": [
    "我們得到了測試集中房屋的價格"
   ]
  },
  {
   "cell_type": "markdown",
   "metadata": {},
   "source": [
    "root mean squared error (RMSE)均方根误差"
   ]
  },
  {
   "cell_type": "markdown",
   "metadata": {},
   "source": [
    "<img src=\"8.png\" style=\"width:700px;height:100px;float:left\">"
   ]
  },
  {
   "cell_type": "code",
   "execution_count": 93,
   "metadata": {},
   "outputs": [
    {
     "data": {
      "text/plain": [
       "11788.995055405307"
      ]
     },
     "execution_count": 93,
     "metadata": {},
     "output_type": "execute_result"
    }
   ],
   "source": [
    "test_df['squared_error'] = (test_df['predicted_price'] - test_df['price'])**(2)\n",
    "mse = test_df['squared_error'].mean()\n",
    "rmse = mse ** (1/2)\n",
    "rmse"
   ]
  },
  {
   "cell_type": "markdown",
   "metadata": {},
   "source": [
    "得到一個變數的 rmse"
   ]
  },
  {
   "cell_type": "markdown",
   "metadata": {},
   "source": [
    "## 不同的變數的結果"
   ]
  },
  {
   "cell_type": "code",
   "execution_count": 99,
   "metadata": {},
   "outputs": [
    {
     "name": "stdout",
     "output_type": "stream",
     "text": [
      "RMSE for the accommodates column: 11733.24753513629\n",
      "RMSE for the bedrooms column: 11656.941286634004\n",
      "RMSE for the bathrooms column: 11834.781291713116\n",
      "RMSE for the number_of_reviews column: 11859.234676269527\n"
     ]
    }
   ],
   "source": [
    "for feature in ['accommodates','bedrooms','bathrooms','number_of_reviews']:\n",
    "    #test_df['predicted_price'] = test_df.accommodates.apply(predict_price,feature_column=feature)\n",
    "    test_df['predicted_price'] = test_df[feature].apply(predict_price,feature_column=feature)\n",
    "    test_df['squared_error'] = (test_df['predicted_price'] - test_df['price'])**(2)\n",
    "    mse = test_df['squared_error'].mean()\n",
    "    rmse = mse ** (1/2)\n",
    "    print(\"RMSE for the {} column: {}\".format(feature,rmse))"
   ]
  },
  {
   "cell_type": "markdown",
   "metadata": {},
   "source": [
    "差異有點大，接下來要統合一下"
   ]
  },
  {
   "cell_type": "code",
   "execution_count": 95,
   "metadata": {},
   "outputs": [
    {
     "name": "stdout",
     "output_type": "stream",
     "text": [
      "(8299, 8)\n"
     ]
    },
    {
     "data": {
      "text/html": [
       "<div>\n",
       "<style scoped>\n",
       "    .dataframe tbody tr th:only-of-type {\n",
       "        vertical-align: middle;\n",
       "    }\n",
       "\n",
       "    .dataframe tbody tr th {\n",
       "        vertical-align: top;\n",
       "    }\n",
       "\n",
       "    .dataframe thead th {\n",
       "        text-align: right;\n",
       "    }\n",
       "</style>\n",
       "<table border=\"1\" class=\"dataframe\">\n",
       "  <thead>\n",
       "    <tr style=\"text-align: right;\">\n",
       "      <th></th>\n",
       "      <th>accommodates</th>\n",
       "      <th>bedrooms</th>\n",
       "      <th>bathrooms</th>\n",
       "      <th>beds</th>\n",
       "      <th>price</th>\n",
       "      <th>minimum_nights</th>\n",
       "      <th>maximum_nights</th>\n",
       "      <th>number_of_reviews</th>\n",
       "    </tr>\n",
       "  </thead>\n",
       "  <tbody>\n",
       "    <tr>\n",
       "      <th>0</th>\n",
       "      <td>-0.588676</td>\n",
       "      <td>-0.260949</td>\n",
       "      <td>-0.370044</td>\n",
       "      <td>-0.517251</td>\n",
       "      <td>-0.110639</td>\n",
       "      <td>0.054733</td>\n",
       "      <td>-0.011397</td>\n",
       "      <td>-0.575137</td>\n",
       "    </tr>\n",
       "    <tr>\n",
       "      <th>1</th>\n",
       "      <td>-0.588676</td>\n",
       "      <td>-0.260949</td>\n",
       "      <td>-0.370044</td>\n",
       "      <td>-0.517251</td>\n",
       "      <td>-0.175856</td>\n",
       "      <td>0.842967</td>\n",
       "      <td>-0.011397</td>\n",
       "      <td>-0.485652</td>\n",
       "    </tr>\n",
       "    <tr>\n",
       "      <th>2</th>\n",
       "      <td>-0.245261</td>\n",
       "      <td>-0.260949</td>\n",
       "      <td>-0.370044</td>\n",
       "      <td>-0.517251</td>\n",
       "      <td>-0.110856</td>\n",
       "      <td>-0.082351</td>\n",
       "      <td>-0.011704</td>\n",
       "      <td>0.266023</td>\n",
       "    </tr>\n",
       "    <tr>\n",
       "      <th>3</th>\n",
       "      <td>-0.588676</td>\n",
       "      <td>-0.260949</td>\n",
       "      <td>0.018149</td>\n",
       "      <td>-0.517251</td>\n",
       "      <td>-0.136726</td>\n",
       "      <td>-0.082351</td>\n",
       "      <td>-0.011397</td>\n",
       "      <td>0.319714</td>\n",
       "    </tr>\n",
       "    <tr>\n",
       "      <th>4</th>\n",
       "      <td>-0.932090</td>\n",
       "      <td>-0.260949</td>\n",
       "      <td>1.959115</td>\n",
       "      <td>0.639282</td>\n",
       "      <td>-0.231183</td>\n",
       "      <td>-0.150893</td>\n",
       "      <td>-0.011647</td>\n",
       "      <td>0.767139</td>\n",
       "    </tr>\n",
       "  </tbody>\n",
       "</table>\n",
       "</div>"
      ],
      "text/plain": [
       "   accommodates  bedrooms  bathrooms      beds     price  minimum_nights  \\\n",
       "0     -0.588676 -0.260949  -0.370044 -0.517251 -0.110639        0.054733   \n",
       "1     -0.588676 -0.260949  -0.370044 -0.517251 -0.175856        0.842967   \n",
       "2     -0.245261 -0.260949  -0.370044 -0.517251 -0.110856       -0.082351   \n",
       "3     -0.588676 -0.260949   0.018149 -0.517251 -0.136726       -0.082351   \n",
       "4     -0.932090 -0.260949   1.959115  0.639282 -0.231183       -0.150893   \n",
       "\n",
       "   maximum_nights  number_of_reviews  \n",
       "0       -0.011397          -0.575137  \n",
       "1       -0.011397          -0.485652  \n",
       "2       -0.011704           0.266023  \n",
       "3       -0.011397           0.319714  \n",
       "4       -0.011647           0.767139  "
      ]
     },
     "execution_count": 95,
     "metadata": {},
     "output_type": "execute_result"
    }
   ],
   "source": [
    "import pandas as pd\n",
    "from sklearn.preprocessing import StandardScaler\n",
    "features = ['accommodates','bedrooms','bathrooms','beds','price','minimum_nights','maximum_nights','number_of_reviews']\n",
    "\n",
    "dc_listings = pd.read_csv('listings2.csv',low_memory=False)\n",
    "\n",
    "dc_listings = dc_listings[features]\n",
    "\n",
    "dc_listings['price'] = dc_listings.price.str.replace(\"\\$|,\",'').astype(float)\n",
    "\n",
    "dc_listings = dc_listings.dropna()#捨棄掉欄位缺失的\n",
    "\n",
    "dc_listings[features] = StandardScaler().fit_transform(dc_listings[features])\n",
    "#做標準化\n",
    "\n",
    "normalized_listings = dc_listings\n",
    "\n",
    "print(dc_listings.shape)\n",
    "\n",
    "normalized_listings.head()"
   ]
  },
  {
   "cell_type": "code",
   "execution_count": 96,
   "metadata": {},
   "outputs": [],
   "source": [
    "norm_train_df = normalized_listings.copy().iloc[0:6000]\n",
    "norm_test_df = normalized_listings.copy().iloc[6000:]"
   ]
  },
  {
   "cell_type": "markdown",
   "metadata": {},
   "source": [
    "多變數的距離計算"
   ]
  },
  {
   "cell_type": "markdown",
   "metadata": {},
   "source": [
    "<img src=\"9.png\" style=\"width:700px;height:400px;float:left\">"
   ]
  },
  {
   "cell_type": "markdown",
   "metadata": {},
   "source": [
    "scipy中有現成的距離計算公式"
   ]
  },
  {
   "cell_type": "code",
   "execution_count": 97,
   "metadata": {},
   "outputs": [
    {
     "data": {
      "text/plain": [
       "0.3434147788647921"
      ]
     },
     "execution_count": 97,
     "metadata": {},
     "output_type": "execute_result"
    }
   ],
   "source": [
    "from scipy.spatial import distance\n",
    "\n",
    "first_listing = normalized_listings.iloc[0][['accommodates', 'bathrooms']]\n",
    "fifth_listing = normalized_listings.iloc[200][['accommodates', 'bathrooms']]\n",
    "first_fifth_distance = distance.euclidean(first_listing, fifth_listing)\n",
    "first_fifth_distance"
   ]
  },
  {
   "cell_type": "markdown",
   "metadata": {},
   "source": [
    "## 多變數KNN模型"
   ]
  },
  {
   "cell_type": "code",
   "execution_count": 98,
   "metadata": {},
   "outputs": [
    {
     "name": "stdout",
     "output_type": "stream",
     "text": [
      "0.6326977650117355\n"
     ]
    }
   ],
   "source": [
    "def predict_price_multivariate(new_listing_value,feature_columns):\n",
    "    temp_df = norm_train_df\n",
    "    temp_df['distance'] = distance.cdist(temp_df[feature_columns],[new_listing_value[feature_columns]])\n",
    "    temp_df = temp_df.sort_values('distance')\n",
    "    knn_5 = temp_df.price.iloc[:5]\n",
    "    predicted_price = knn_5.mean()\n",
    "    return(predicted_price)\n",
    "\n",
    "cols = ['accommodates', 'bathrooms']\n",
    "norm_test_df['predicted_price'] = norm_test_df[cols].apply(predict_price_multivariate,feature_columns=cols,axis=1)    \n",
    "norm_test_df['squared_error'] = (norm_test_df['predicted_price'] - norm_test_df['price'])**(2)\n",
    "mse = norm_test_df['squared_error'].mean()\n",
    "rmse = mse ** (1/2)\n",
    "print(rmse)"
   ]
  },
  {
   "cell_type": "markdown",
   "metadata": {},
   "source": [
    "# 參考資料\n",
    "* https://www.twblogs.net/a/5baab1662b7177781a0e63a0\n",
    "* https://blog.csdn.net/weixin_41789707/article/details/80930274?utm_source=copy\n",
    "* https://scikit-learn.org/stable/modules/neighbors.html?fbclid=IwAR1fuB0TtM1ZpzzNyHvHWc9mw0KqKzuDgmnXQON9UcOByosoNEWNgJJda8Y#ball-tree\n",
    "* https://www.javatpoint.com/k-nearest-neighbor-algorithm-for-machine-learning?fbclid=IwAR2dRxMOfVOu1eXw9STV8vAw-YQmeGQTL-LcCLiPCYDkIYGgrRV5Tp-LYdQ"
   ]
  },
  {
   "cell_type": "code",
   "execution_count": null,
   "metadata": {},
   "outputs": [],
   "source": []
  },
  {
   "cell_type": "code",
   "execution_count": null,
   "metadata": {},
   "outputs": [],
   "source": []
  }
 ],
 "metadata": {
  "anaconda-cloud": {},
  "kernelspec": {
   "display_name": "Python 3",
   "language": "python",
   "name": "python3"
  },
  "language_info": {
   "codemirror_mode": {
    "name": "ipython",
    "version": 3
   },
   "file_extension": ".py",
   "mimetype": "text/x-python",
   "name": "python",
   "nbconvert_exporter": "python",
   "pygments_lexer": "ipython3",
   "version": "3.7.6"
  }
 },
 "nbformat": 4,
 "nbformat_minor": 1
}
