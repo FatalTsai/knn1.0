{
 "cells": [
  {
   "cell_type": "markdown",
   "metadata": {},
   "source": [
    "# 簡介機器學習\n",
    "### 可大致分為監督鄰近分類學習和非監督兩種學習方法\n",
    "<img src=\"unsuper.png\">\n",
    "1. 非監督式學習(Unsupervised Learing)的訓練資料不需要事先以人力處理標籤，機器面對資料時，做的處理是依照關聯性去歸類、找出潛在規則與套路、形成集群，不對資訊有正確或不正確的判別\n",
    "<img src=\"supervised.png\">\n",
    "2. 監督式學習 (Supervised learning) 是電腦從標籤化 (labeled) 的資訊中分析模式後做出預測的學習方式。標記過的資料就好比標準答案，電腦在學習的過程透過對比誤差，一邊修正去達到更精準的預測，這樣的方式讓監督式學習有準確率高的優點。 \n",
    "\n",
    " 根據不同特徵值之間的距離來進行分類的一種簡單的機器學習方法，它是一種簡單但是懶惰的演算法。他的訓練資料都是有標籤的資料，即訓練的資料都有自己的類別。KNN演算法主要應用領域是對未知事物進行分類，即判斷未知事物屬於哪一類，判斷透過歐幾里得定理，判斷未知事物的特徵和哪一類已知事物的的特徵最接近。它也可以用於遞迴，通過找出一個樣本的k個最近鄰居，將這些鄰居的屬性的平均值賦給該樣本，就可以得到該樣本的屬性。\n",
    "\n",
    " 儘管很簡單，近鄰方法在處理資料量多的分類及迴歸分析上很成功"
   ]
  },
  {
   "cell_type": "markdown",
   "metadata": {},
   "source": [
    "# KNN Algorithm \n",
    "\n",
    "### 之使用airbnb做房價預測"
   ]
  },
  {
   "cell_type": "markdown",
   "metadata": {},
   "source": [
    "* KNN又稱K最近鄰居是基於監督學習技術的最簡單的機器學習算法之一。  \n",
    "\n",
    "* KNN算法假設新案例/數據與可用案例之間具有相似性，並將新案例放入與可用類別最相似的類別中。\n",
    "\n",
    "* KNN算法存儲所有可用數據，並基於相似度對新數據點進行分類。這意味著，當出現新數據時，可以使用K-NN算法將其輕鬆分類為鑽井套件類別。\n",
    "\n",
    "* KNN算法既可以用於回歸也可以用於分類，但是大多數情況下用於分類問題。\n",
    "\n",
    "* KNN是一種非參數算法，這意味著它不會對基礎數據進行任何假設。\n",
    "\n",
    "* 它也稱為惰性學習器算法，因為它不立即從訓練集中學習，而是存儲數據集，並且在分類時對數據集執行操作。\n",
    "\n",
    "* 訓練階段的KNN算法僅存儲數據集，並在獲取新數據時將其分類為與新數據非常相似的類別。\n"
   ]
  },
  {
   "cell_type": "markdown",
   "metadata": {},
   "source": [
    "假設我們有一個看起來類似於婊子和狗的生物的圖像，但是我們想知道它是婊子還是狗。因此，對於這種識別，我們可以使用KNN算法，因為它適用於相似性度量。我們的KNN模型將發現新數據集與婊子和狗圖像相似的特徵，並基於最相似的特徵將其分類為婊子或狗類別。\n",
    "<img src=\"dog.png\">\n"
   ]
  },
  {
   "cell_type": "markdown",
   "metadata": {},
   "source": [
    "## Airbnb in Taipe\n",
    "<img src=\"2020-07-01_070428.png\">\n",
    "\n",
    "台北他媽的居大不易，除非你青春的身體，不然應該付出金錢上的代價，來換得一個短期的藏身之地"
   ]
  },
  {
   "cell_type": "markdown",
   "metadata": {},
   "source": [
    "## 資料抓取"
   ]
  },
  {
   "cell_type": "markdown",
   "metadata": {},
   "source": [
    "因此我們先寫好一個爬蟲，去抓取官網上的資訊吧(?)\n",
    "下次好了....\n",
    "有一個叫做 http://insideairbnb.com/ 的非官方網站\n",
    "會抓取官網上的資訊\n",
    "大概每一年會至少更新一次\n",
    "我拿了今年五月的資料用用\n",
    "https://www.espn.com/mlb/stats/team/_/view/pitching/season/2019/seasontype/2/table/pitching/sort/ERA/dir/asc"
   ]
  },
  {
   "cell_type": "code",
   "execution_count": 127,
   "metadata": {},
   "outputs": [
    {
     "name": "stdout",
     "output_type": "stream",
     "text": [
      "(90, 14)\n"
     ]
    },
    {
     "data": {
      "text/html": [
       "<div>\n",
       "<style scoped>\n",
       "    .dataframe tbody tr th:only-of-type {\n",
       "        vertical-align: middle;\n",
       "    }\n",
       "\n",
       "    .dataframe tbody tr th {\n",
       "        vertical-align: top;\n",
       "    }\n",
       "\n",
       "    .dataframe thead th {\n",
       "        text-align: right;\n",
       "    }\n",
       "</style>\n",
       "<table border=\"1\" class=\"dataframe\">\n",
       "  <thead>\n",
       "    <tr style=\"text-align: right;\">\n",
       "      <th></th>\n",
       "      <th>R</th>\n",
       "      <th>H</th>\n",
       "      <th>HR</th>\n",
       "      <th>RBI</th>\n",
       "      <th>SO</th>\n",
       "      <th>TB</th>\n",
       "      <th>OBP</th>\n",
       "      <th>OPS</th>\n",
       "      <th>pW</th>\n",
       "      <th>pERA</th>\n",
       "      <th>pHR</th>\n",
       "      <th>pSO</th>\n",
       "      <th>pBB</th>\n",
       "      <th>pWHIP</th>\n",
       "    </tr>\n",
       "  </thead>\n",
       "  <tbody>\n",
       "    <tr>\n",
       "      <th>0</th>\n",
       "      <td>729</td>\n",
       "      <td>1379</td>\n",
       "      <td>213</td>\n",
       "      <td>698</td>\n",
       "      <td>1435</td>\n",
       "      <td>2320</td>\n",
       "      <td>0.310</td>\n",
       "      <td>0.725</td>\n",
       "      <td>54</td>\n",
       "      <td>5.59</td>\n",
       "      <td>305</td>\n",
       "      <td>1248</td>\n",
       "      <td>561</td>\n",
       "      <td>1.46</td>\n",
       "    </tr>\n",
       "    <tr>\n",
       "      <th>1</th>\n",
       "      <td>901</td>\n",
       "      <td>1554</td>\n",
       "      <td>245</td>\n",
       "      <td>857</td>\n",
       "      <td>1382</td>\n",
       "      <td>2688</td>\n",
       "      <td>0.340</td>\n",
       "      <td>0.806</td>\n",
       "      <td>84</td>\n",
       "      <td>4.70</td>\n",
       "      <td>215</td>\n",
       "      <td>1633</td>\n",
       "      <td>605</td>\n",
       "      <td>1.38</td>\n",
       "    </tr>\n",
       "    <tr>\n",
       "      <th>2</th>\n",
       "      <td>769</td>\n",
       "      <td>1368</td>\n",
       "      <td>220</td>\n",
       "      <td>734</td>\n",
       "      <td>1276</td>\n",
       "      <td>2338</td>\n",
       "      <td>0.324</td>\n",
       "      <td>0.746</td>\n",
       "      <td>72</td>\n",
       "      <td>5.12</td>\n",
       "      <td>267</td>\n",
       "      <td>1404</td>\n",
       "      <td>576</td>\n",
       "      <td>1.38</td>\n",
       "    </tr>\n",
       "    <tr>\n",
       "      <th>3</th>\n",
       "      <td>769</td>\n",
       "      <td>1354</td>\n",
       "      <td>223</td>\n",
       "      <td>731</td>\n",
       "      <td>1332</td>\n",
       "      <td>2345</td>\n",
       "      <td>0.323</td>\n",
       "      <td>0.756</td>\n",
       "      <td>93</td>\n",
       "      <td>3.76</td>\n",
       "      <td>207</td>\n",
       "      <td>1508</td>\n",
       "      <td>450</td>\n",
       "      <td>1.22</td>\n",
       "    </tr>\n",
       "    <tr>\n",
       "      <th>4</th>\n",
       "      <td>691</td>\n",
       "      <td>1356</td>\n",
       "      <td>162</td>\n",
       "      <td>655</td>\n",
       "      <td>1405</td>\n",
       "      <td>2203</td>\n",
       "      <td>0.309</td>\n",
       "      <td>0.710</td>\n",
       "      <td>59</td>\n",
       "      <td>5.20</td>\n",
       "      <td>221</td>\n",
       "      <td>1230</td>\n",
       "      <td>582</td>\n",
       "      <td>1.48</td>\n",
       "    </tr>\n",
       "  </tbody>\n",
       "</table>\n",
       "</div>"
      ],
      "text/plain": [
       "     R     H   HR  RBI    SO    TB    OBP    OPS  pW  pERA  pHR   pSO  pBB  \\\n",
       "0  729  1379  213  698  1435  2320  0.310  0.725  54  5.59  305  1248  561   \n",
       "1  901  1554  245  857  1382  2688  0.340  0.806  84  4.70  215  1633  605   \n",
       "2  769  1368  220  734  1276  2338  0.324  0.746  72  5.12  267  1404  576   \n",
       "3  769  1354  223  731  1332  2345  0.323  0.756  93  3.76  207  1508  450   \n",
       "4  691  1356  162  655  1405  2203  0.309  0.710  59  5.20  221  1230  582   \n",
       "\n",
       "   pWHIP  \n",
       "0   1.46  \n",
       "1   1.38  \n",
       "2   1.38  \n",
       "3   1.22  \n",
       "4   1.48  "
      ]
     },
     "execution_count": 127,
     "metadata": {},
     "output_type": "execute_result"
    }
   ],
   "source": [
    "import pandas as pd\n",
    "\n",
    "features = ['R','H','HR','RBI','SO','TB','OBP','OPS','pW','pERA','pHR','pSO','pBB','pWHIP']\n",
    "#篩選出有用的特徵\n",
    "\n",
    "dc_listings = pd.read_csv('baseball (1).csv',low_memory=False)\n",
    "\n",
    "dc_listings = dc_listings[features]\n",
    "\n",
    "print(dc_listings.shape)\n",
    "\n",
    "dc_listings.head()"
   ]
  },
  {
   "cell_type": "markdown",
   "metadata": {},
   "source": [
    "擷取的特徵 (baseball (1).csv 有很多跟我一樣廢的資訊 這邊只取幾個比較有用的)\n"
   ]
  },
  {
   "cell_type": "markdown",
   "metadata": {},
   "source": [
    "## 如果我今天他媽的有一張床，也沒有女生要住我家，我能租多少錢?\n",
    "--> 484要看看別人都賣多少\n"
   ]
  },
  {
   "cell_type": "markdown",
   "metadata": {},
   "source": [
    "<img src=\"newdatapoint.png\">"
   ]
  },
  {
   "cell_type": "markdown",
   "metadata": {},
   "source": [
    "\n",
    "## KNN原理"
   ]
  },
  {
   "cell_type": "markdown",
   "metadata": {},
   "source": [
    "## K為一個常數，表示我們找K個房間數量的價格做比較\n",
    "如我們所見，最近的三個鄰居來自類別A，因此此新數據點必須屬於類別A。\n",
    "如何在KNN演算法中選擇K的值?\n",
    "\n",
    "在K-NN算法中選擇K的值時，需要記住以下幾點：\n",
    "* 沒有確定“ K”的最佳值的特定方法，因此我們需要嘗試一些值以從中找出最佳值。\n",
    "* K的極低值（例如K = 1或K = 2）可能會產生噪聲，並導致模型中異常值的影響。\n",
    "* 較大的K值不錯，但可能會遇到一些困難。\n",
    "<img src=\"K_is_three.png\">\n",
    "此圖中選擇  K=3 "
   ]
  },
  {
   "cell_type": "markdown",
   "metadata": {},
   "source": [
    "### KNN演算法的優點:\n",
    "實施起來很簡單。\n",
    "它對嘈雜的訓練數據具有魯棒性\n",
    "如果訓練數據很大，可能會更有效。\n",
    "### KNN演算法的缺點:\n",
    "始終需要確定K的值，該值有時可能很複雜。\n",
    "由於計算所有訓練樣本的數據點之間的距離，因此計算成本很高。"
   ]
  },
  {
   "cell_type": "markdown",
   "metadata": {},
   "source": [
    "## 距離的計算\n"
   ]
  },
  {
   "cell_type": "markdown",
   "metadata": {},
   "source": [
    "<img src=\"6.png\" style=\"width:400px;height:80px;float:left\">"
   ]
  },
  {
   "cell_type": "markdown",
   "metadata": {},
   "source": [
    "q1到qn為一個個案的特徵之資料 \n",
    "p1到pn是另一個個案的"
   ]
  },
  {
   "cell_type": "markdown",
   "metadata": {},
   "source": [
    "假設我的ERA=3，就ERA數量這個特徵來計算距離"
   ]
  },
  {
   "cell_type": "code",
   "execution_count": 128,
   "metadata": {
    "scrolled": true
   },
   "outputs": [
    {
     "data": {
      "text/plain": [
       "0.00    2\n",
       "0.01    1\n",
       "0.03    2\n",
       "0.04    1\n",
       "0.05    2\n",
       "       ..\n",
       "1.20    1\n",
       "1.24    1\n",
       "1.36    1\n",
       "1.56    1\n",
       "1.59    1\n",
       "Name: distance, Length: 71, dtype: int64"
      ]
     },
     "execution_count": 128,
     "metadata": {},
     "output_type": "execute_result"
    }
   ],
   "source": [
    "import numpy as np\n",
    "\n",
    "our__value = 4\n",
    "\n",
    "dc_listings['distance'] = np.abs(dc_listings.pERA - our__value)\n",
    "dc_listings.distance.value_counts().sort_index()"
   ]
  },
  {
   "cell_type": "markdown",
   "metadata": {},
   "source": [
    "這邊跟我們距離為0的房間()有 777個"
   ]
  },
  {
   "cell_type": "markdown",
   "metadata": {},
   "source": [
    "透過sample稍微洗一下牌"
   ]
  },
  {
   "cell_type": "code",
   "execution_count": 129,
   "metadata": {
    "scrolled": true
   },
   "outputs": [
    {
     "data": {
      "text/plain": [
       "67    86\n",
       "58    82\n",
       "83    83\n",
       "8     97\n",
       "89    80\n",
       "Name: pW, dtype: int64"
      ]
     },
     "execution_count": 129,
     "metadata": {},
     "output_type": "execute_result"
    }
   ],
   "source": [
    "dc_listings = dc_listings.sample(frac=1,random_state=0)#frac=1做shuffle \n",
    "dc_listings = dc_listings.sort_values('distance')\n",
    "dc_listings.pW.head()"
   ]
  },
  {
   "cell_type": "markdown",
   "metadata": {},
   "source": [
    "把那個垃圾$字號去掉 這邊取K"
   ]
  },
  {
   "cell_type": "code",
   "execution_count": 130,
   "metadata": {},
   "outputs": [
    {
     "data": {
      "text/plain": [
       "85.6"
      ]
     },
     "execution_count": 130,
     "metadata": {},
     "output_type": "execute_result"
    }
   ],
   "source": [
    "#dc_listings['pW'] = dc_listings.pW.str.replace(\"\\$|,\",'').astype(float)\n",
    "\n",
    "mean_price = dc_listings.pW.iloc[:5].mean()\n",
    "mean_price"
   ]
  },
  {
   "cell_type": "markdown",
   "metadata": {},
   "source": [
    "隨機取五個數，得到大致的價格\n"
   ]
  },
  {
   "cell_type": "markdown",
   "metadata": {},
   "source": [
    "## 模型的規劃"
   ]
  },
  {
   "cell_type": "markdown",
   "metadata": {},
   "source": [
    "<img src=\"2020-07-01_091209.png\" style=\"width:600px;height:250px;float:left\">"
   ]
  },
  {
   "cell_type": "markdown",
   "metadata": {},
   "source": [
    "先切割出訓練集 和 測試集"
   ]
  },
  {
   "cell_type": "code",
   "execution_count": 131,
   "metadata": {},
   "outputs": [],
   "source": [
    "dc_listings = dc_listings.sample(frac=1,random_state=22)\n",
    "\n",
    "dc_listings.drop('distance',axis=1)\n",
    "\n",
    "train_df = dc_listings.copy().iloc[:60]\n",
    "test_df = dc_listings.copy().iloc[60:]"
   ]
  },
  {
   "cell_type": "markdown",
   "metadata": {},
   "source": [
    "以某個特徵做預測"
   ]
  },
  {
   "cell_type": "code",
   "execution_count": 132,
   "metadata": {},
   "outputs": [],
   "source": [
    "def predict_pW(new_listing_value,feature_column):\n",
    "    #print('new_list_value',new_listing_value)\n",
    "    temp_df = train_df\n",
    "    temp_df['distance'] = np.abs(dc_listings[feature_column] - new_listing_value)\n",
    "    temp_df = temp_df.sort_values('distance')\n",
    "    knn_5 = temp_df.pW.iloc[:5]\n",
    "    #print('knn_5',knn_5)\n",
    "    predicted_pW = knn_5.mean()\n",
    "    return(predicted_pW)"
   ]
  },
  {
   "cell_type": "code",
   "execution_count": 133,
   "metadata": {},
   "outputs": [
    {
     "data": {
      "text/html": [
       "<div>\n",
       "<style scoped>\n",
       "    .dataframe tbody tr th:only-of-type {\n",
       "        vertical-align: middle;\n",
       "    }\n",
       "\n",
       "    .dataframe tbody tr th {\n",
       "        vertical-align: top;\n",
       "    }\n",
       "\n",
       "    .dataframe thead th {\n",
       "        text-align: right;\n",
       "    }\n",
       "</style>\n",
       "<table border=\"1\" class=\"dataframe\">\n",
       "  <thead>\n",
       "    <tr style=\"text-align: right;\">\n",
       "      <th></th>\n",
       "      <th>pW</th>\n",
       "      <th>pERA</th>\n",
       "      <th>predicted_pW</th>\n",
       "    </tr>\n",
       "  </thead>\n",
       "  <tbody>\n",
       "    <tr>\n",
       "      <th>65</th>\n",
       "      <td>64</td>\n",
       "      <td>5.36</td>\n",
       "      <td>61.8</td>\n",
       "    </tr>\n",
       "    <tr>\n",
       "      <th>39</th>\n",
       "      <td>64</td>\n",
       "      <td>4.58</td>\n",
       "      <td>76.4</td>\n",
       "    </tr>\n",
       "    <tr>\n",
       "      <th>52</th>\n",
       "      <td>80</td>\n",
       "      <td>4.14</td>\n",
       "      <td>91.0</td>\n",
       "    </tr>\n",
       "    <tr>\n",
       "      <th>57</th>\n",
       "      <td>90</td>\n",
       "      <td>3.74</td>\n",
       "      <td>92.8</td>\n",
       "    </tr>\n",
       "    <tr>\n",
       "      <th>79</th>\n",
       "      <td>97</td>\n",
       "      <td>3.88</td>\n",
       "      <td>86.8</td>\n",
       "    </tr>\n",
       "    <tr>\n",
       "      <th>11</th>\n",
       "      <td>67</td>\n",
       "      <td>4.79</td>\n",
       "      <td>70.4</td>\n",
       "    </tr>\n",
       "    <tr>\n",
       "      <th>42</th>\n",
       "      <td>100</td>\n",
       "      <td>3.78</td>\n",
       "      <td>92.4</td>\n",
       "    </tr>\n",
       "    <tr>\n",
       "      <th>45</th>\n",
       "      <td>67</td>\n",
       "      <td>4.92</td>\n",
       "      <td>69.2</td>\n",
       "    </tr>\n",
       "    <tr>\n",
       "      <th>75</th>\n",
       "      <td>92</td>\n",
       "      <td>3.95</td>\n",
       "      <td>84.2</td>\n",
       "    </tr>\n",
       "    <tr>\n",
       "      <th>25</th>\n",
       "      <td>57</td>\n",
       "      <td>4.74</td>\n",
       "      <td>71.4</td>\n",
       "    </tr>\n",
       "  </tbody>\n",
       "</table>\n",
       "</div>"
      ],
      "text/plain": [
       "     pW  pERA  predicted_pW\n",
       "65   64  5.36          61.8\n",
       "39   64  4.58          76.4\n",
       "52   80  4.14          91.0\n",
       "57   90  3.74          92.8\n",
       "79   97  3.88          86.8\n",
       "11   67  4.79          70.4\n",
       "42  100  3.78          92.4\n",
       "45   67  4.92          69.2\n",
       "75   92  3.95          84.2\n",
       "25   57  4.74          71.4"
      ]
     },
     "execution_count": 133,
     "metadata": {},
     "output_type": "execute_result"
    }
   ],
   "source": [
    "test_df['predicted_pW'] = test_df.pERA.apply(predict_pW,feature_column='pERA')\n",
    "test_df[['pW','pERA','predicted_pW']].head(10)"
   ]
  },
  {
   "cell_type": "markdown",
   "metadata": {},
   "source": [
    "我們得到了測試集中房屋的價格"
   ]
  },
  {
   "cell_type": "markdown",
   "metadata": {},
   "source": [
    "root mean squared error (RMSE)均方根误差"
   ]
  },
  {
   "cell_type": "markdown",
   "metadata": {},
   "source": [
    "<img src=\"8.png\" style=\"width:700px;height:100px;float:left\">"
   ]
  },
  {
   "cell_type": "code",
   "execution_count": 134,
   "metadata": {},
   "outputs": [
    {
     "data": {
      "text/plain": [
       "9.450925880568528"
      ]
     },
     "execution_count": 134,
     "metadata": {},
     "output_type": "execute_result"
    }
   ],
   "source": [
    "test_df['squared_error'] = (test_df['predicted_pW'] - test_df['pW'])**(2)\n",
    "mse = test_df['squared_error'].mean()\n",
    "rmse = mse ** (1/2)\n",
    "rmse"
   ]
  },
  {
   "cell_type": "markdown",
   "metadata": {},
   "source": [
    "得到一個變數的 rmse"
   ]
  },
  {
   "cell_type": "markdown",
   "metadata": {},
   "source": [
    "## 不同的變數的結果"
   ]
  },
  {
   "cell_type": "code",
   "execution_count": 137,
   "metadata": {},
   "outputs": [
    {
     "name": "stdout",
     "output_type": "stream",
     "text": [
      "RMSE for the SO column: 17.857659421099953\n",
      "RMSE for the OBP column: 11.561660780355043\n",
      "RMSE for the pERA column: 9.450925880568528\n",
      "RMSE for the pWHIP column: 11.2653450901426\n"
     ]
    }
   ],
   "source": [
    "for feature in ['SO','OBP','pERA','pWHIP']:\n",
    "    test_df['predicted_pW'] = test_df[feature].apply(predict_pW,feature_column=feature)\n",
    "    test_df['squared_error'] = (test_df['predicted_pW'] - test_df['pW'])**(2)\n",
    "    mse = test_df['squared_error'].mean()\n",
    "    rmse = mse ** (1/2)\n",
    "    print(\"RMSE for the {} column: {}\".format(feature,rmse))"
   ]
  },
  {
   "cell_type": "markdown",
   "metadata": {},
   "source": [
    "差異有點大，接下來要統合一下"
   ]
  },
  {
   "cell_type": "code",
   "execution_count": 139,
   "metadata": {},
   "outputs": [
    {
     "name": "stdout",
     "output_type": "stream",
     "text": [
      "(90, 14)\n"
     ]
    },
    {
     "data": {
      "text/html": [
       "<div>\n",
       "<style scoped>\n",
       "    .dataframe tbody tr th:only-of-type {\n",
       "        vertical-align: middle;\n",
       "    }\n",
       "\n",
       "    .dataframe tbody tr th {\n",
       "        vertical-align: top;\n",
       "    }\n",
       "\n",
       "    .dataframe thead th {\n",
       "        text-align: right;\n",
       "    }\n",
       "</style>\n",
       "<table border=\"1\" class=\"dataframe\">\n",
       "  <thead>\n",
       "    <tr style=\"text-align: right;\">\n",
       "      <th></th>\n",
       "      <th>R</th>\n",
       "      <th>H</th>\n",
       "      <th>HR</th>\n",
       "      <th>RBI</th>\n",
       "      <th>SO</th>\n",
       "      <th>TB</th>\n",
       "      <th>OBP</th>\n",
       "      <th>OPS</th>\n",
       "      <th>pW</th>\n",
       "      <th>pERA</th>\n",
       "      <th>pHR</th>\n",
       "      <th>pSO</th>\n",
       "      <th>pBB</th>\n",
       "      <th>pWHIP</th>\n",
       "    </tr>\n",
       "  </thead>\n",
       "  <tbody>\n",
       "    <tr>\n",
       "      <th>0</th>\n",
       "      <td>-0.286917</td>\n",
       "      <td>-0.185070</td>\n",
       "      <td>0.208574</td>\n",
       "      <td>-0.259182</td>\n",
       "      <td>0.483401</td>\n",
       "      <td>-0.130370</td>\n",
       "      <td>-0.929721</td>\n",
       "      <td>-0.531210</td>\n",
       "      <td>-1.938043</td>\n",
       "      <td>2.294354</td>\n",
       "      <td>2.395848</td>\n",
       "      <td>-0.311858</td>\n",
       "      <td>0.516825</td>\n",
       "      <td>0.749150</td>\n",
       "    </tr>\n",
       "    <tr>\n",
       "      <th>1</th>\n",
       "      <td>1.859759</td>\n",
       "      <td>2.323405</td>\n",
       "      <td>1.061831</td>\n",
       "      <td>1.784286</td>\n",
       "      <td>0.023707</td>\n",
       "      <td>2.123212</td>\n",
       "      <td>1.460990</td>\n",
       "      <td>1.626182</td>\n",
       "      <td>0.215338</td>\n",
       "      <td>0.670445</td>\n",
       "      <td>0.388777</td>\n",
       "      <td>1.185217</td>\n",
       "      <td>0.935273</td>\n",
       "      <td>0.418440</td>\n",
       "    </tr>\n",
       "    <tr>\n",
       "      <th>2</th>\n",
       "      <td>0.212310</td>\n",
       "      <td>-0.342745</td>\n",
       "      <td>0.395224</td>\n",
       "      <td>0.203490</td>\n",
       "      <td>-0.895680</td>\n",
       "      <td>-0.020141</td>\n",
       "      <td>0.185944</td>\n",
       "      <td>0.028114</td>\n",
       "      <td>-0.646014</td>\n",
       "      <td>1.436784</td>\n",
       "      <td>1.548418</td>\n",
       "      <td>0.294749</td>\n",
       "      <td>0.659478</td>\n",
       "      <td>0.418440</td>\n",
       "    </tr>\n",
       "    <tr>\n",
       "      <th>3</th>\n",
       "      <td>0.212310</td>\n",
       "      <td>-0.543423</td>\n",
       "      <td>0.475217</td>\n",
       "      <td>0.164934</td>\n",
       "      <td>-0.409966</td>\n",
       "      <td>0.022726</td>\n",
       "      <td>0.106254</td>\n",
       "      <td>0.294459</td>\n",
       "      <td>0.861352</td>\n",
       "      <td>-1.044694</td>\n",
       "      <td>0.210371</td>\n",
       "      <td>0.699154</td>\n",
       "      <td>-0.538804</td>\n",
       "      <td>-0.242980</td>\n",
       "    </tr>\n",
       "    <tr>\n",
       "      <th>4</th>\n",
       "      <td>-0.761183</td>\n",
       "      <td>-0.514755</td>\n",
       "      <td>-1.151304</td>\n",
       "      <td>-0.811818</td>\n",
       "      <td>0.223197</td>\n",
       "      <td>-0.846862</td>\n",
       "      <td>-1.009411</td>\n",
       "      <td>-0.930727</td>\n",
       "      <td>-1.579146</td>\n",
       "      <td>1.582754</td>\n",
       "      <td>0.522582</td>\n",
       "      <td>-0.381852</td>\n",
       "      <td>0.716539</td>\n",
       "      <td>0.831828</td>\n",
       "    </tr>\n",
       "  </tbody>\n",
       "</table>\n",
       "</div>"
      ],
      "text/plain": [
       "          R         H        HR       RBI        SO        TB       OBP  \\\n",
       "0 -0.286917 -0.185070  0.208574 -0.259182  0.483401 -0.130370 -0.929721   \n",
       "1  1.859759  2.323405  1.061831  1.784286  0.023707  2.123212  1.460990   \n",
       "2  0.212310 -0.342745  0.395224  0.203490 -0.895680 -0.020141  0.185944   \n",
       "3  0.212310 -0.543423  0.475217  0.164934 -0.409966  0.022726  0.106254   \n",
       "4 -0.761183 -0.514755 -1.151304 -0.811818  0.223197 -0.846862 -1.009411   \n",
       "\n",
       "        OPS        pW      pERA       pHR       pSO       pBB     pWHIP  \n",
       "0 -0.531210 -1.938043  2.294354  2.395848 -0.311858  0.516825  0.749150  \n",
       "1  1.626182  0.215338  0.670445  0.388777  1.185217  0.935273  0.418440  \n",
       "2  0.028114 -0.646014  1.436784  1.548418  0.294749  0.659478  0.418440  \n",
       "3  0.294459  0.861352 -1.044694  0.210371  0.699154 -0.538804 -0.242980  \n",
       "4 -0.930727 -1.579146  1.582754  0.522582 -0.381852  0.716539  0.831828  "
      ]
     },
     "execution_count": 139,
     "metadata": {},
     "output_type": "execute_result"
    }
   ],
   "source": [
    "import pandas as pd\n",
    "from sklearn.preprocessing import StandardScaler\n",
    "features = ['R','H','HR','RBI','SO','TB','OBP','OPS','pW','pERA','pHR','pSO','pBB','pWHIP']\n",
    "\n",
    "dc_listings = pd.read_csv('baseball (1).csv',low_memory=False)\n",
    "\n",
    "dc_listings = dc_listings[features]\n",
    "\n",
    "#dc_listings['price'] = dc_listings.price.str.replace(\"\\$|,\",'').astype(float)\n",
    "\n",
    "dc_listings = dc_listings.dropna()#捨棄掉欄位缺失的\n",
    "\n",
    "dc_listings[features] = StandardScaler().fit_transform(dc_listings[features])\n",
    "#做標準化\n",
    "\n",
    "normalized_listings = dc_listings\n",
    "\n",
    "print(dc_listings.shape)\n",
    "\n",
    "normalized_listings.head()"
   ]
  },
  {
   "cell_type": "code",
   "execution_count": 140,
   "metadata": {},
   "outputs": [],
   "source": [
    "norm_train_df = normalized_listings.copy().iloc[0:60]\n",
    "norm_test_df = normalized_listings.copy().iloc[60:]"
   ]
  },
  {
   "cell_type": "markdown",
   "metadata": {},
   "source": [
    "多變數的距離計算"
   ]
  },
  {
   "cell_type": "markdown",
   "metadata": {},
   "source": [
    "<img src=\"9.png\" style=\"width:700px;height:400px;float:left\">"
   ]
  },
  {
   "cell_type": "markdown",
   "metadata": {},
   "source": [
    "scipy中有現成的距離計算公式"
   ]
  },
  {
   "cell_type": "code",
   "execution_count": 142,
   "metadata": {},
   "outputs": [
    {
     "data": {
      "text/plain": [
       "1.2778442268935872"
      ]
     },
     "execution_count": 142,
     "metadata": {},
     "output_type": "execute_result"
    }
   ],
   "source": [
    "from scipy.spatial import distance\n",
    "\n",
    "first_listing = normalized_listings.iloc[0][['OBP', 'pERA']]\n",
    "fifth_listing = normalized_listings.iloc[20][['OBP', 'pERA']]\n",
    "first_fifth_distance = distance.euclidean(first_listing, fifth_listing)\n",
    "first_fifth_distance"
   ]
  },
  {
   "cell_type": "markdown",
   "metadata": {},
   "source": [
    "## 多變數KNN模型"
   ]
  },
  {
   "cell_type": "code",
   "execution_count": 145,
   "metadata": {},
   "outputs": [
    {
     "name": "stdout",
     "output_type": "stream",
     "text": [
      "0.7098589312763492\n"
     ]
    }
   ],
   "source": [
    "def predict_pW_multivariate(new_listing_value,feature_columns):\n",
    "    temp_df = norm_train_df\n",
    "    temp_df['distance'] = distance.cdist(temp_df[feature_columns],[new_listing_value[feature_columns]])\n",
    "    temp_df = temp_df.sort_values('distance')\n",
    "    knn_5 = temp_df.pW.iloc[:5]\n",
    "    predicted_pW = knn_5.mean()\n",
    "    return(predicted_pW)\n",
    "\n",
    "cols = ['OBP', 'pERA']\n",
    "norm_test_df['predicted_pW'] = norm_test_df[cols].apply(predict_pW_multivariate,feature_columns=cols,axis=1)    \n",
    "norm_test_df['squared_error'] = (norm_test_df['predicted_pW'] - norm_test_df['pW'])**(2)\n",
    "mse = norm_test_df['squared_error'].mean()\n",
    "rmse = mse ** (1/2)\n",
    "print(rmse)"
   ]
  },
  {
   "cell_type": "markdown",
   "metadata": {},
   "source": [
    "# 參考資料\n",
    "* https://www.twblogs.net/a/5baab1662b7177781a0e63a0\n",
    "* https://blog.csdn.net/weixin_41789707/article/details/80930274?utm_source=copy\n",
    "* https://scikit-learn.org/stable/modules/neighbors.html?fbclid=IwAR1fuB0TtM1ZpzzNyHvHWc9mw0KqKzuDgmnXQON9UcOByosoNEWNgJJda8Y#ball-tree\n",
    "* https://www.javatpoint.com/k-nearest-neighbor-algorithm-for-machine-learning?fbclid=IwAR2dRxMOfVOu1eXw9STV8vAw-YQmeGQTL-LcCLiPCYDkIYGgrRV5Tp-LYdQ"
   ]
  },
  {
   "cell_type": "code",
   "execution_count": null,
   "metadata": {},
   "outputs": [],
   "source": []
  },
  {
   "cell_type": "code",
   "execution_count": null,
   "metadata": {},
   "outputs": [],
   "source": []
  }
 ],
 "metadata": {
  "anaconda-cloud": {},
  "kernelspec": {
   "display_name": "Python 3",
   "language": "python",
   "name": "python3"
  },
  "language_info": {
   "codemirror_mode": {
    "name": "ipython",
    "version": 3
   },
   "file_extension": ".py",
   "mimetype": "text/x-python",
   "name": "python",
   "nbconvert_exporter": "python",
   "pygments_lexer": "ipython3",
   "version": "3.7.6"
  }
 },
 "nbformat": 4,
 "nbformat_minor": 1
}
